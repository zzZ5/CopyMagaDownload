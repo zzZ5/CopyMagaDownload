{
 "cells": [
  {
   "cell_type": "code",
   "execution_count": 16,
   "metadata": {},
   "outputs": [
    {
     "name": "stdout",
     "output_type": "stream",
     "text": [
      "1 電鋸人: 電鋸人,电锯人,電鋸人第二部,电锯人第二部,链锯人,Chainsaw Man\n",
      "2 電鋸人同人: 電鋸人同人,电锯人同人\n",
      "3 艦娘x電鋸人同人短漫: 艦娘x電鋸人同人短漫,舰娘x电锯人同人短漫\n",
      "4 電人N: 电人N\n",
      "5 黑礁外傳 清道夫索亞 解體！電鋸娘: 黑礁外傳 清道夫索亞 解體！電鋸娘,黑礁外传 清道夫索亚 解体！电锯娘\n",
      "6 恐怖！電動牙刷人！: 恐怖！電動牙刷人！,恐怖！电动牙刷人！\n",
      "7 人型電腦天使心: 人型電腦天使心,人型电脑天使心\n",
      "8 電影經紀人: 电影经纪人\n",
      "9 官方同人志·電波先生: 电波先生官方同人志,官方同人志·電波先生,官方同人志·电波先生\n",
      "10 愛的拉鋸戰: 爱的拉锯战，少女歌劇同人，少女歌剧同人\n",
      "11 電磁炮百合同人: 姐姐大人、毕业、以及啪啪啪的故事,白井黑子的野望,黑子、虽然是第一次但是沒有啪啪啪的故事,電磁炮百合同人,电磁炮百合同人\n",
      "12 The Queen's Before: とある科学の超電磁砲,某科学的超电磁炮同人,The Queen's Before,The Queen's Before\n",
      "電鋸人: https://copymanga.site/comic/dianjuren\n"
     ]
    }
   ],
   "source": [
    "q = input(\"请输入搜索的内容：\")\n",
    "\n",
    "import requests\n",
    "params = {\"offset\": 0,\n",
    "        \"platform\": 2,\n",
    "        \"limit\": 12,\n",
    "        \"q\": q\n",
    "        }\n",
    "url = \"https://copymanga.site/api/kb/web/searchs/comics\"\n",
    "\n",
    "response = requests.request(\"GET\", url, params=params)\n",
    "\n",
    "comic_list = response.json()['results']['list']\n",
    "\n",
    "index = 0\n",
    "for i in comic_list:\n",
    "    index += 1\n",
    "    print(str(index) + ' ' + i['name'] + ': ' + i['alias'])\n",
    "\n",
    "res = input(\"是否要下载漫画？（y/n）\")\n",
    "if res == 'y':\n",
    "    index =  int(input(\"请输入你要下载漫画的序号：\"))\n",
    "else: \n",
    "    pass\n",
    "\n",
    "index -= 1\n",
    "comic_name = comic_list[index]['name']\n",
    "comic_path_word = comic_list[index]['path_word']\n",
    "comic_path = \"https://copymanga.site/comic/{}\".format(comic_path_word)\n",
    "print(comic_name + \": \" + comic_path)"
   ]
  },
  {
   "cell_type": "code",
   "execution_count": 18,
   "metadata": {},
   "outputs": [],
   "source": [
    "import time\n",
    "from selenium import webdriver\n",
    "\n",
    "driver = webdriver.Chrome(executable_path=\"chromedriver\")\n",
    "\n",
    "options = webdriver.ChromeOptions()\n",
    "options.add_argument('--headless')\n",
    "options.add_argument('--disable-gpu')\n",
    "driver.get(comic_path)\n",
    "time.sleep(2)\n",
    "try:\n",
    "    #设置自动下滑滚动条操作\n",
    "    for i in range(1, 3):\n",
    "        driver.execute_script('window.scrollTo(0,document.body.scrollHeight)')\n",
    "        sleep(1)\n",
    "except:\n",
    "    pass\n",
    "\n",
    "\n",
    "comic_html_url = \"temp/_{}.html\".format(comic_name)\n",
    "with open(comic_html_url, \"w\", encoding=\"utf-8\") as f:\n",
    "    f.write(driver.page_source)"
   ]
  },
  {
   "cell_type": "code",
   "execution_count": 19,
   "metadata": {},
   "outputs": [],
   "source": [
    "from bs4 import BeautifulSoup\n",
    "\n",
    "soup = BeautifulSoup(open(comic_html_url, encoding='utf-8'), features='html.parser')\n",
    "ul = soup.find('ul', class_=\"nav nav-tabs\")"
   ]
  },
  {
   "cell_type": "code",
   "execution_count": 20,
   "metadata": {},
   "outputs": [
    {
     "name": "stdout",
     "output_type": "stream",
     "text": [
      "1 全部\n",
      "2 話\n",
      "3 卷\n",
      "4 番外\n"
     ]
    }
   ],
   "source": [
    "index = 0\n",
    "li_list = []\n",
    "for li in ul:\n",
    "    index += 1\n",
    "    print(str(index) + \" \" + li.string)\n",
    "    li_list.append(li.string)\n",
    "choose = input(\"请选择要下载的内容序号\")\n",
    "index = int(choose) - 1\n"
   ]
  },
  {
   "cell_type": "code",
   "execution_count": 21,
   "metadata": {},
   "outputs": [],
   "source": [
    "choose_id = \"default{}\".format(li_list[index].string)\n",
    "chapter_ul = soup.find(id=choose_id).find('ul')"
   ]
  },
  {
   "cell_type": "code",
   "execution_count": 22,
   "metadata": {},
   "outputs": [],
   "source": [
    "chapter_list = []\n",
    "url_root = 'https://copymanga.site'\n",
    "for chapter in chapter_ul:\n",
    "    chapter_list.append((chapter.string, url_root + chapter.attrs['href']))"
   ]
  },
  {
   "cell_type": "code",
   "execution_count": 87,
   "metadata": {},
   "outputs": [],
   "source": [
    "chapter_list[0][1]\n",
    "chapter_name = chapter_list[0][0]"
   ]
  },
  {
   "cell_type": "code",
   "execution_count": 44,
   "metadata": {},
   "outputs": [],
   "source": [
    "from selenium.webdriver.common.keys import Keys\n",
    "\n",
    "\n",
    "driver = webdriver.Chrome(executable_path=\"chromedriver\")\n",
    "\n",
    "options = webdriver.ChromeOptions()\n",
    "options.add_argument('--headless')\n",
    "options.add_argument('--disable-gpu')\n",
    "driver.get(chapter_list[0][1])\n",
    "time.sleep(3)\n",
    "scroll = 100\n",
    "for i in range(1, 400):\n",
    "    scroll += 250\n",
    "    js=\"var q=document.documentElement.scrollTop={}\".format(scroll)  \n",
    "    driver.execute_script(js)\n",
    "    time.sleep(0.1)\n",
    "chapter_html_url = \"temp/_{}/_{}.html\".format(comic_name, chapter_list[0][0])\n",
    "if not os.path.exists(\"temp/_{}\".format(comic_name)):\n",
    "    os.makedirs(\"temp/_{}\".format(comic_name))\n",
    "with open(chapter_html_url, \"w\", encoding=\"utf-8\") as f:\n",
    "    f.write(driver.page_source)"
   ]
  },
  {
   "cell_type": "code",
   "execution_count": 48,
   "metadata": {},
   "outputs": [],
   "source": [
    "soup = BeautifulSoup(open(chapter_html_url, encoding='utf-8'), features='html.parser')\n",
    "pic_ul = soup.find('ul', class_=\"comicContent-list\")"
   ]
  },
  {
   "cell_type": "code",
   "execution_count": 85,
   "metadata": {},
   "outputs": [],
   "source": [
    "import bs4\n",
    "\n",
    "pic_list = []\n",
    "\n",
    "for i in pic_ul:\n",
    "    img = i.find('img')\n",
    "    if type(img) == bs4.element.Tag:\n",
    "        pic_list.append(img.attrs['src'])"
   ]
  },
  {
   "cell_type": "code",
   "execution_count": 88,
   "metadata": {},
   "outputs": [
    {
     "data": {
      "text/plain": [
       "['https://hi77-overseas.mangafuna.xyz/dianjuren/0f432/1647500603070001.jpg.c800x.jpg',\n",
       " 'https://hi77-overseas.mangafuna.xyz/dianjuren/0f432/1647500604590002.jpg.c800x.jpg',\n",
       " 'https://hi77-overseas.mangafuna.xyz/dianjuren/0f432/1647500605750003.jpg.c800x.jpg',\n",
       " 'https://hi77-overseas.mangafuna.xyz/dianjuren/0f432/1647500607350004.jpg.c800x.jpg',\n",
       " 'https://hi77-overseas.mangafuna.xyz/dianjuren/0f432/1647500608440005.jpg.c800x.jpg',\n",
       " 'https://hi77-overseas.mangafuna.xyz/dianjuren/0f432/1647500609530006.jpg.c800x.jpg',\n",
       " 'https://hi77-overseas.mangafuna.xyz/dianjuren/0f432/1647500610630007.jpg.c800x.jpg',\n",
       " 'https://hi77-overseas.mangafuna.xyz/dianjuren/0f432/1647500611790008.jpg.c800x.jpg',\n",
       " 'https://hi77-overseas.mangafuna.xyz/dianjuren/0f432/1647500613020009.jpg.c800x.jpg',\n",
       " 'https://hi77-overseas.mangafuna.xyz/dianjuren/0f432/1647500614120010.jpg.c800x.jpg',\n",
       " 'https://hi77-overseas.mangafuna.xyz/dianjuren/0f432/1647500615310011.jpg.c800x.jpg',\n",
       " 'https://hi77-overseas.mangafuna.xyz/dianjuren/0f432/1647500616580012.jpg.c800x.jpg',\n",
       " 'https://hi77-overseas.mangafuna.xyz/dianjuren/0f432/1647500617710013.jpg.c800x.jpg',\n",
       " 'https://hi77-overseas.mangafuna.xyz/dianjuren/0f432/1647500618850014.jpg.c800x.jpg',\n",
       " 'https://hi77-overseas.mangafuna.xyz/dianjuren/0f432/1647500620020015.jpg.c800x.jpg',\n",
       " 'https://hi77-overseas.mangafuna.xyz/dianjuren/0f432/1647500621240016.jpg.c800x.jpg',\n",
       " 'https://hi77-overseas.mangafuna.xyz/dianjuren/0f432/1647500622280017.jpg.c800x.jpg',\n",
       " 'https://hi77-overseas.mangafuna.xyz/dianjuren/0f432/1647500623480018.jpg.c800x.jpg',\n",
       " 'https://hi77-overseas.mangafuna.xyz/dianjuren/0f432/1647500624700019.jpg.c800x.jpg',\n",
       " 'https://hi77-overseas.mangafuna.xyz/dianjuren/0f432/1647500625790020.jpg.c800x.jpg',\n",
       " 'https://hi77-overseas.mangafuna.xyz/dianjuren/0f432/1647500627000021.jpg.c800x.jpg',\n",
       " 'https://hi77-overseas.mangafuna.xyz/dianjuren/0f432/1647500628160022.jpg.c800x.jpg',\n",
       " 'https://hi77-overseas.mangafuna.xyz/dianjuren/0f432/1647500629420023.jpg.c800x.jpg',\n",
       " 'https://hi77-overseas.mangafuna.xyz/dianjuren/0f432/1647500630730024.jpg.c800x.jpg',\n",
       " 'https://hi77-overseas.mangafuna.xyz/dianjuren/0f432/1647500632030025.jpg.c800x.jpg',\n",
       " 'https://hi77-overseas.mangafuna.xyz/dianjuren/0f432/1647500633130026.jpg.c800x.jpg',\n",
       " 'https://hi77-overseas.mangafuna.xyz/dianjuren/0f432/1647500634380027.jpg.c800x.jpg',\n",
       " 'https://hi77-overseas.mangafuna.xyz/dianjuren/0f432/1647500635580028.jpg.c800x.jpg',\n",
       " 'https://hi77-overseas.mangafuna.xyz/dianjuren/0f432/1647500636810029.jpg.c800x.jpg',\n",
       " 'https://hi77-overseas.mangafuna.xyz/dianjuren/0f432/1647500637870030.jpg.c800x.jpg',\n",
       " 'https://hi77-overseas.mangafuna.xyz/dianjuren/0f432/1647500639010031.jpg.c800x.jpg',\n",
       " 'https://hi77-overseas.mangafuna.xyz/dianjuren/0f432/1647500640320032.jpg.c800x.jpg',\n",
       " 'https://hi77-overseas.mangafuna.xyz/dianjuren/0f432/1647500641450033.jpg.c800x.jpg',\n",
       " 'https://hi77-overseas.mangafuna.xyz/dianjuren/0f432/1647500642610034.jpg.c800x.jpg',\n",
       " 'https://hi77-overseas.mangafuna.xyz/dianjuren/0f432/1647500643580035.jpg.c800x.jpg',\n",
       " 'https://hi77-overseas.mangafuna.xyz/dianjuren/0f432/1647500644690036.jpg.c800x.jpg',\n",
       " 'https://hi77-overseas.mangafuna.xyz/dianjuren/0f432/1647500645660037.jpg.c800x.jpg',\n",
       " 'https://hi77-overseas.mangafuna.xyz/dianjuren/0f432/1647500646880038.jpg.c800x.jpg',\n",
       " 'https://hi77-overseas.mangafuna.xyz/dianjuren/0f432/1647500647950039.jpg.c800x.jpg',\n",
       " 'https://hi77-overseas.mangafuna.xyz/dianjuren/0f432/1647500649280040.jpg.c800x.jpg',\n",
       " 'https://hi77-overseas.mangafuna.xyz/dianjuren/0f432/1647500650600041.jpg.c800x.jpg',\n",
       " 'https://hi77-overseas.mangafuna.xyz/dianjuren/0f432/1647500652010042.jpg.c800x.jpg',\n",
       " 'https://hi77-overseas.mangafuna.xyz/dianjuren/0f432/1647500653250043.jpg.c800x.jpg',\n",
       " 'https://hi77-overseas.mangafuna.xyz/dianjuren/0f432/1647500654890044.jpg.c800x.jpg',\n",
       " 'https://hi77-overseas.mangafuna.xyz/dianjuren/0f432/1647500656280045.jpg.c800x.jpg',\n",
       " 'https://hi77-overseas.mangafuna.xyz/dianjuren/0f432/1647500657660046.jpg.c800x.jpg',\n",
       " 'https://hi77-overseas.mangafuna.xyz/dianjuren/0f432/1647500659280047.jpg.c800x.jpg',\n",
       " 'https://hi77-overseas.mangafuna.xyz/dianjuren/0f432/1647500660420048.jpg.c800x.jpg',\n",
       " 'https://hi77-overseas.mangafuna.xyz/dianjuren/0f432/1647500661480049.jpg.c800x.jpg',\n",
       " 'https://hi77-overseas.mangafuna.xyz/dianjuren/0f432/1647500662650050.jpg.c800x.jpg',\n",
       " 'https://hi77-overseas.mangafuna.xyz/dianjuren/0f432/1647500663800051.jpg.c800x.jpg',\n",
       " 'https://hi77-overseas.mangafuna.xyz/dianjuren/0f432/1647500664850052.jpg.c800x.jpg',\n",
       " 'https://hi77-overseas.mangafuna.xyz/dianjuren/0f432/1647500666000053.jpg.c800x.jpg']"
      ]
     },
     "execution_count": 88,
     "metadata": {},
     "output_type": "execute_result"
    }
   ],
   "source": [
    "pic_list"
   ]
  },
  {
   "cell_type": "code",
   "execution_count": 94,
   "metadata": {},
   "outputs": [
    {
     "data": {
      "text/plain": [
       "'1647500603070001.jpg.c800x.jpg'"
      ]
     },
     "execution_count": 94,
     "metadata": {},
     "output_type": "execute_result"
    }
   ],
   "source": []
  },
  {
   "cell_type": "code",
   "execution_count": 98,
   "metadata": {},
   "outputs": [
    {
     "name": "stdout",
     "output_type": "stream",
     "text": [
      "正在下载 電鋸人 第01话 第1张图片\n",
      "正在下载 電鋸人 第01话 第2张图片\n",
      "正在下载 電鋸人 第01话 第3张图片\n",
      "正在下载 電鋸人 第01话 第4张图片\n",
      "正在下载 電鋸人 第01话 第5张图片\n",
      "正在下载 電鋸人 第01话 第6张图片\n",
      "正在下载 電鋸人 第01话 第7张图片\n",
      "正在下载 電鋸人 第01话 第8张图片\n",
      "正在下载 電鋸人 第01话 第9张图片\n",
      "正在下载 電鋸人 第01话 第10张图片\n",
      "正在下载 電鋸人 第01话 第11张图片\n",
      "正在下载 電鋸人 第01话 第12张图片\n",
      "正在下载 電鋸人 第01话 第13张图片\n",
      "正在下载 電鋸人 第01话 第14张图片\n",
      "正在下载 電鋸人 第01话 第15张图片\n",
      "正在下载 電鋸人 第01话 第16张图片\n",
      "正在下载 電鋸人 第01话 第17张图片\n",
      "正在下载 電鋸人 第01话 第18张图片\n",
      "正在下载 電鋸人 第01话 第19张图片\n",
      "正在下载 電鋸人 第01话 第20张图片\n",
      "正在下载 電鋸人 第01话 第21张图片\n",
      "正在下载 電鋸人 第01话 第22张图片\n",
      "正在下载 電鋸人 第01话 第23张图片\n",
      "正在下载 電鋸人 第01话 第24张图片\n",
      "正在下载 電鋸人 第01话 第25张图片\n",
      "正在下载 電鋸人 第01话 第26张图片\n",
      "正在下载 電鋸人 第01话 第27张图片\n",
      "正在下载 電鋸人 第01话 第28张图片\n",
      "正在下载 電鋸人 第01话 第29张图片\n",
      "正在下载 電鋸人 第01话 第30张图片\n",
      "正在下载 電鋸人 第01话 第31张图片\n",
      "正在下载 電鋸人 第01话 第32张图片\n",
      "正在下载 電鋸人 第01话 第33张图片\n",
      "正在下载 電鋸人 第01话 第34张图片\n",
      "正在下载 電鋸人 第01话 第35张图片\n",
      "正在下载 電鋸人 第01话 第36张图片\n",
      "正在下载 電鋸人 第01话 第37张图片\n",
      "正在下载 電鋸人 第01话 第38张图片\n",
      "正在下载 電鋸人 第01话 第39张图片\n",
      "正在下载 電鋸人 第01话 第40张图片\n",
      "正在下载 電鋸人 第01话 第41张图片\n",
      "正在下载 電鋸人 第01话 第42张图片\n",
      "正在下载 電鋸人 第01话 第43张图片\n",
      "正在下载 電鋸人 第01话 第44张图片\n",
      "正在下载 電鋸人 第01话 第45张图片\n",
      "正在下载 電鋸人 第01话 第46张图片\n",
      "正在下载 電鋸人 第01话 第47张图片\n",
      "正在下载 電鋸人 第01话 第48张图片\n",
      "正在下载 電鋸人 第01话 第49张图片\n",
      "正在下载 電鋸人 第01话 第50张图片\n",
      "正在下载 電鋸人 第01话 第51张图片\n",
      "正在下载 電鋸人 第01话 第52张图片\n",
      "正在下载 電鋸人 第01话 第53张图片\n"
     ]
    }
   ],
   "source": [
    "download_folder = \"{}/{}\".format(comic_name, chapter_name)\n",
    "if not os.path.exists(download_folder):\n",
    "    os.makedirs(download_folder)\n",
    "j = 0\n",
    "for i in pic_list:\n",
    "    j += 1 \n",
    "    pic = requests.get(i).content\n",
    "\n",
    "    with open(download_folder + '/' + os.path.split(i)[-1], 'wb') as f:\n",
    "        print('正在下载 ' + comic_name + \" \" + chapter_name + \" 第\" + str(j)  + \"张图片\")\n",
    "        f.write(pic)"
   ]
  }
 ],
 "metadata": {
  "kernelspec": {
   "display_name": "Python 3.10.6 64-bit",
   "language": "python",
   "name": "python3"
  },
  "language_info": {
   "codemirror_mode": {
    "name": "ipython",
    "version": 3
   },
   "file_extension": ".py",
   "mimetype": "text/x-python",
   "name": "python",
   "nbconvert_exporter": "python",
   "pygments_lexer": "ipython3",
   "version": "3.10.6"
  },
  "orig_nbformat": 4,
  "vscode": {
   "interpreter": {
    "hash": "26de051ba29f2982a8de78e945f0abaf191376122a1563185a90213a26c5da77"
   }
  }
 },
 "nbformat": 4,
 "nbformat_minor": 2
}
